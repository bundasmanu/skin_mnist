{
 "cells": [
  {
   "cell_type": "code",
   "execution_count": 2,
   "metadata": {
    "pycharm": {
     "is_executing": false,
     "name": "#%%\n"
    }
   },
   "outputs": [
    {
     "name": "stderr",
     "output_type": "stream",
     "text": [
      "Using TensorFlow backend.\n"
     ]
    }
   ],
   "source": [
    "## IMPORTS\n",
    "import pandas as pd\n",
    "import config\n",
    "import config_func\n",
    "import os\n",
    "import numpy as np\n",
    "import matplotlib.pyplot as plt\n"
   ]
  },
  {
   "cell_type": "code",
   "execution_count": 3,
   "metadata": {
    "pycharm": {
     "is_executing": false,
     "name": "#%%\n"
    }
   },
   "outputs": [],
   "source": [
    "## CONFIG VARIABLES\n",
    "## FILES\n",
    "INPUT_FOLDER = 'input'\n",
    "IMAGES_ACESS = 'images/*.jpg'\n",
    "INFO_PATIENTS = 'HAM10000_metadata.csv'\n",
    "OTHER_CSV = 'HMNIST_8_8_l.csv'\n",
    "\n",
    "#DATAFRAME COLUMNS\n",
    "LESION_ID = 'lesion_id'\n",
    "IMAGE_ID = 'image_id'\n",
    "DX = 'dx'\n",
    "DX_TYPE = 'dx_type'\n",
    "AGE = 'age'\n",
    "SEX = 'sex'\n",
    "LOCALIZATION = 'localization'\n",
    "PATH = 'path'\n",
    "\n",
    "#OTHER VARIABLES\n",
    "MALE = 'male'\n",
    "FEMALE = 'female'\n",
    "UNKNOWN = 'unknown'\n",
    "SCALP = 'scalp'\n",
    "EAR = 'ear'\n",
    "FACE = 'face'\n",
    "BACK = 'back'\n",
    "TRUNK = 'trunk'\n",
    "CHEST = 'chest'\n",
    "UPPER_EXTREMEMITY = 'upper_extremity'\n",
    "ABDOMEN = 'abdomen'\n",
    "LOWER_EXTREMITY = 'lower_extremity'\n",
    "GENITAL = 'genital'\n",
    "NECK = 'neck'\n",
    "HAND = 'hand'\n",
    "FOOT = 'foot'\n",
    "ACRAL = 'acral'\n",
    "BKL = 'bkl'\n",
    "NV = 'nv'\n",
    "DF = 'df'\n",
    "MEL = 'mel'\n",
    "VASC = 'vasc'\n",
    "BCC = 'bcc'\n",
    "AKIEC = 'akiec'\n"
   ]
  },
  {
   "cell_type": "code",
   "execution_count": 4,
   "metadata": {
    "pycharm": {
     "is_executing": false,
     "name": "#%%\n"
    }
   },
   "outputs": [
    {
     "name": "stdout",
     "output_type": "stream",
     "text": [
      "C:\\Users\\gusta\\Desktop\\Projetos_Python\\skin_mnist\n",
      "C:\\Users\\gusta\\Desktop\\Projetos_Python\\skin_mnist\\input\n",
      "C:\\Users\\gusta\\Desktop\\Projetos_Python\\skin_mnist\\input\\HAM10000_metadata.csv\n"
     ]
    }
   ],
   "source": [
    "## IMPORTANT PATH FOLDERS, THAT AGGREGATES DATASET INFORMATION\n",
    "ROOT_DIR = os.getcwd()\n",
    "print(ROOT_DIR)\n",
    "INPUT_DIR = os.path.join(ROOT_DIR, config.INPUT_FOLDER)\n",
    "print(INPUT_DIR)\n",
    "PATIENTS_INFO = os.path.join(INPUT_DIR, config.INFO_PATIENTS)\n",
    "print(PATIENTS_INFO)\n"
   ]
  },
  {
   "cell_type": "code",
   "execution_count": 5,
   "metadata": {
    "pycharm": {
     "is_executing": false,
     "name": "#%%\n"
    }
   },
   "outputs": [
    {
     "data": {
      "text/plain": [
       "'C:\\\\Users\\\\gusta\\\\Desktop\\\\Projetos_Python\\\\skin_mnist\\\\input\\\\images\\\\ISIC_0024306.jpg'"
      ]
     },
     "execution_count": 5,
     "metadata": {},
     "output_type": "execute_result"
    }
   ],
   "source": [
    "## GET PATHS FOR ALL IMAGES\n",
    "IMAGES_REGEX = os.path.join(INPUT_DIR, config.IMAGES_ACESS)\n",
    "images_paths = config_func.getImages(IMAGES_REGEX)\n",
    "images_paths[0]\n"
   ]
  },
  {
   "cell_type": "code",
   "execution_count": 6,
   "metadata": {
    "pycharm": {
     "is_executing": false,
     "name": "#%%\n"
    }
   },
   "outputs": [
    {
     "data": {
      "text/html": [
       "<div>\n",
       "<style scoped>\n",
       "    .dataframe tbody tr th:only-of-type {\n",
       "        vertical-align: middle;\n",
       "    }\n",
       "\n",
       "    .dataframe tbody tr th {\n",
       "        vertical-align: top;\n",
       "    }\n",
       "\n",
       "    .dataframe thead th {\n",
       "        text-align: right;\n",
       "    }\n",
       "</style>\n",
       "<table border=\"1\" class=\"dataframe\">\n",
       "  <thead>\n",
       "    <tr style=\"text-align: right;\">\n",
       "      <th></th>\n",
       "      <th>lesion_id</th>\n",
       "      <th>image_id</th>\n",
       "      <th>dx</th>\n",
       "      <th>dx_type</th>\n",
       "      <th>age</th>\n",
       "      <th>sex</th>\n",
       "      <th>localization</th>\n",
       "    </tr>\n",
       "  </thead>\n",
       "  <tbody>\n",
       "    <tr>\n",
       "      <th>0</th>\n",
       "      <td>HAM_0000118</td>\n",
       "      <td>ISIC_0027419</td>\n",
       "      <td>bkl</td>\n",
       "      <td>histo</td>\n",
       "      <td>80.0</td>\n",
       "      <td>male</td>\n",
       "      <td>scalp</td>\n",
       "    </tr>\n",
       "    <tr>\n",
       "      <th>1</th>\n",
       "      <td>HAM_0000118</td>\n",
       "      <td>ISIC_0025030</td>\n",
       "      <td>bkl</td>\n",
       "      <td>histo</td>\n",
       "      <td>80.0</td>\n",
       "      <td>male</td>\n",
       "      <td>scalp</td>\n",
       "    </tr>\n",
       "    <tr>\n",
       "      <th>2</th>\n",
       "      <td>HAM_0002730</td>\n",
       "      <td>ISIC_0026769</td>\n",
       "      <td>bkl</td>\n",
       "      <td>histo</td>\n",
       "      <td>80.0</td>\n",
       "      <td>male</td>\n",
       "      <td>scalp</td>\n",
       "    </tr>\n",
       "    <tr>\n",
       "      <th>3</th>\n",
       "      <td>HAM_0002730</td>\n",
       "      <td>ISIC_0025661</td>\n",
       "      <td>bkl</td>\n",
       "      <td>histo</td>\n",
       "      <td>80.0</td>\n",
       "      <td>male</td>\n",
       "      <td>scalp</td>\n",
       "    </tr>\n",
       "    <tr>\n",
       "      <th>4</th>\n",
       "      <td>HAM_0001466</td>\n",
       "      <td>ISIC_0031633</td>\n",
       "      <td>bkl</td>\n",
       "      <td>histo</td>\n",
       "      <td>75.0</td>\n",
       "      <td>male</td>\n",
       "      <td>ear</td>\n",
       "    </tr>\n",
       "  </tbody>\n",
       "</table>\n",
       "</div>"
      ],
      "text/plain": [
       "     lesion_id      image_id   dx dx_type   age   sex localization\n",
       "0  HAM_0000118  ISIC_0027419  bkl   histo  80.0  male        scalp\n",
       "1  HAM_0000118  ISIC_0025030  bkl   histo  80.0  male        scalp\n",
       "2  HAM_0002730  ISIC_0026769  bkl   histo  80.0  male        scalp\n",
       "3  HAM_0002730  ISIC_0025661  bkl   histo  80.0  male        scalp\n",
       "4  HAM_0001466  ISIC_0031633  bkl   histo  75.0  male          ear"
      ]
     },
     "execution_count": 6,
     "metadata": {},
     "output_type": "execute_result"
    }
   ],
   "source": [
    "##GET DATA\n",
    "data = pd.read_csv(PATIENTS_INFO)\n",
    "data.iloc[0] #SEE OUTPUT OF FIRST ROW, TO CHECK AFTER IF NEW DATAFRAME IS ALREADY WELL CREATED\n",
    "data.head(5)\n"
   ]
  },
  {
   "cell_type": "code",
   "execution_count": 7,
   "metadata": {
    "pycharm": {
     "is_executing": false,
     "name": "#%%\n"
    }
   },
   "outputs": [
    {
     "name": "stdout",
     "output_type": "stream",
     "text": [
      "<class 'pandas.core.frame.DataFrame'>\n",
      "RangeIndex: 10015 entries, 0 to 10014\n",
      "Data columns (total 7 columns):\n",
      " #   Column        Non-Null Count  Dtype  \n",
      "---  ------        --------------  -----  \n",
      " 0   lesion_id     10015 non-null  object \n",
      " 1   image_id      10015 non-null  object \n",
      " 2   dx            10015 non-null  object \n",
      " 3   dx_type       10015 non-null  object \n",
      " 4   age           9958 non-null   float64\n",
      " 5   sex           10015 non-null  object \n",
      " 6   localization  10015 non-null  object \n",
      "dtypes: float64(1), object(6)\n",
      "memory usage: 547.8+ KB\n"
     ]
    }
   ],
   "source": [
    "## DATAFRAME INFO\n",
    "data.info()\n"
   ]
  },
  {
   "cell_type": "code",
   "execution_count": 8,
   "metadata": {
    "pycharm": {
     "is_executing": false,
     "name": "#%%\n"
    }
   },
   "outputs": [
    {
     "data": {
      "text/html": [
       "<div>\n",
       "<style scoped>\n",
       "    .dataframe tbody tr th:only-of-type {\n",
       "        vertical-align: middle;\n",
       "    }\n",
       "\n",
       "    .dataframe tbody tr th {\n",
       "        vertical-align: top;\n",
       "    }\n",
       "\n",
       "    .dataframe thead th {\n",
       "        text-align: right;\n",
       "    }\n",
       "</style>\n",
       "<table border=\"1\" class=\"dataframe\">\n",
       "  <thead>\n",
       "    <tr style=\"text-align: right;\">\n",
       "      <th></th>\n",
       "      <th>lesion_id</th>\n",
       "      <th>image_id</th>\n",
       "      <th>dx</th>\n",
       "      <th>dx_type</th>\n",
       "      <th>age</th>\n",
       "      <th>sex</th>\n",
       "      <th>localization</th>\n",
       "    </tr>\n",
       "  </thead>\n",
       "  <tbody>\n",
       "    <tr>\n",
       "      <th>4349</th>\n",
       "      <td>HAM_0000550</td>\n",
       "      <td>ISIC_0024306</td>\n",
       "      <td>nv</td>\n",
       "      <td>follow_up</td>\n",
       "      <td>45.0</td>\n",
       "      <td>male</td>\n",
       "      <td>trunk</td>\n",
       "    </tr>\n",
       "    <tr>\n",
       "      <th>4263</th>\n",
       "      <td>HAM_0003577</td>\n",
       "      <td>ISIC_0024307</td>\n",
       "      <td>nv</td>\n",
       "      <td>follow_up</td>\n",
       "      <td>50.0</td>\n",
       "      <td>male</td>\n",
       "      <td>lower extremity</td>\n",
       "    </tr>\n",
       "    <tr>\n",
       "      <th>4217</th>\n",
       "      <td>HAM_0001477</td>\n",
       "      <td>ISIC_0024308</td>\n",
       "      <td>nv</td>\n",
       "      <td>follow_up</td>\n",
       "      <td>55.0</td>\n",
       "      <td>female</td>\n",
       "      <td>trunk</td>\n",
       "    </tr>\n",
       "    <tr>\n",
       "      <th>3587</th>\n",
       "      <td>HAM_0000484</td>\n",
       "      <td>ISIC_0024309</td>\n",
       "      <td>nv</td>\n",
       "      <td>follow_up</td>\n",
       "      <td>40.0</td>\n",
       "      <td>male</td>\n",
       "      <td>trunk</td>\n",
       "    </tr>\n",
       "    <tr>\n",
       "      <th>1451</th>\n",
       "      <td>HAM_0003350</td>\n",
       "      <td>ISIC_0024310</td>\n",
       "      <td>mel</td>\n",
       "      <td>histo</td>\n",
       "      <td>60.0</td>\n",
       "      <td>male</td>\n",
       "      <td>chest</td>\n",
       "    </tr>\n",
       "  </tbody>\n",
       "</table>\n",
       "</div>"
      ],
      "text/plain": [
       "        lesion_id      image_id   dx    dx_type   age     sex     localization\n",
       "4349  HAM_0000550  ISIC_0024306   nv  follow_up  45.0    male            trunk\n",
       "4263  HAM_0003577  ISIC_0024307   nv  follow_up  50.0    male  lower extremity\n",
       "4217  HAM_0001477  ISIC_0024308   nv  follow_up  55.0  female            trunk\n",
       "3587  HAM_0000484  ISIC_0024309   nv  follow_up  40.0    male            trunk\n",
       "1451  HAM_0003350  ISIC_0024310  mel      histo  60.0    male            chest"
      ]
     },
     "execution_count": 8,
     "metadata": {},
     "output_type": "execute_result"
    }
   ],
   "source": [
    "##SORT BY IMAGE_ID, IN COHERENCE IMAGE_PATHS\n",
    "data = data.sort_values(config.IMAGE_ID, ascending=True)\n",
    "data.head(5)\n"
   ]
  },
  {
   "cell_type": "code",
   "execution_count": 9,
   "metadata": {
    "pycharm": {
     "is_executing": false,
     "name": "#%%\n"
    }
   },
   "outputs": [],
   "source": [
    "def addNewColumn_Populate_DataFrame(dataFrame, name_new_column, dataToPopulate):\n",
    "\n",
    "    '''\n",
    "    THIS FUNCTION IS USED TO ADD NEW COLUMN TO DATAFRAME, AND POPULATE COLUMN WITH DATA\n",
    "    :param dataFrame: dataFrame --> dataFrame to apply changes\n",
    "    :param name_new_column: str --> name of new column\n",
    "    :param dataToPopulate: List (str) --> strings to populate data\n",
    "    :return: dataFrame changed\n",
    "    '''\n",
    "\n",
    "    try:\n",
    "\n",
    "        dataFrame[name_new_column] = dataToPopulate\n",
    "        return dataFrame\n",
    "\n",
    "    except:\n",
    "        raise\n"
   ]
  },
  {
   "cell_type": "code",
   "execution_count": 10,
   "metadata": {
    "pycharm": {
     "is_executing": false,
     "name": "#%%\n"
    }
   },
   "outputs": [
    {
     "data": {
      "text/plain": [
       "'C:\\\\Users\\\\gusta\\\\Desktop\\\\Projetos_Python\\\\skin_mnist\\\\input\\\\images\\\\ISIC_0027419.jpg'"
      ]
     },
     "execution_count": 10,
     "metadata": {},
     "output_type": "execute_result"
    }
   ],
   "source": [
    "## SET NEW COLUMN TO DATAFRAME AND IMAGE PATH TO SORTED DATAFRAME (SAME ORDER DATAFRAME AND LIST OF IMAGE_PATHS) \n",
    "data = config_func.addNewColumn_Populate_DataFrame(data, config.PATH, images_paths)\n",
    "data = data.sort_index() #sort by index again\n",
    "data.head(5)\n",
    "data.iloc[0][config.PATH]\n"
   ]
  },
  {
   "cell_type": "code",
   "execution_count": 11,
   "metadata": {
    "pycharm": {
     "is_executing": false,
     "name": "#%%\n"
    }
   },
   "outputs": [
    {
     "data": {
      "text/plain": [
       "10015"
      ]
     },
     "execution_count": 11,
     "metadata": {},
     "output_type": "execute_result"
    }
   ],
   "source": [
    "## COUNT HOW MANY IMAGES ARE INTO DATASET\n",
    "data.shape[0]\n"
   ]
  },
  {
   "cell_type": "code",
   "execution_count": 12,
   "metadata": {
    "pycharm": {
     "is_executing": false,
     "name": "#%%\n"
    }
   },
   "outputs": [
    {
     "data": {
      "text/plain": [
       "Index(['lesion_id', 'image_id', 'dx', 'dx_type', 'age', 'sex', 'localization',\n",
       "       'path'],\n",
       "      dtype='object')"
      ]
     },
     "execution_count": 12,
     "metadata": {},
     "output_type": "execute_result"
    }
   ],
   "source": [
    "## GET COLUMNS NAMES\n",
    "data.columns\n"
   ]
  },
  {
   "cell_type": "code",
   "execution_count": 13,
   "metadata": {
    "pycharm": {
     "is_executing": false,
     "name": "#%%\n"
    }
   },
   "outputs": [
    {
     "data": {
      "text/plain": [
       "array(['bkl', 'nv', 'df', 'mel', 'vasc', 'bcc', 'akiec'], dtype=object)"
      ]
     },
     "execution_count": 13,
     "metadata": {},
     "output_type": "execute_result"
    }
   ],
   "source": [
    "## CHECK HOW MANY CLASSES EXIST\n",
    "classes = data.dx.unique()\n",
    "classes"
   ]
  },
  {
   "cell_type": "code",
   "execution_count": 14,
   "metadata": {
    "pycharm": {
     "is_executing": false,
     "name": "#%%\n"
    }
   },
   "outputs": [
    {
     "data": {
      "text/plain": [
       "lesion_id        0\n",
       "image_id         0\n",
       "dx               0\n",
       "dx_type          0\n",
       "age             57\n",
       "sex              0\n",
       "localization     0\n",
       "path             0\n",
       "dtype: int64"
      ]
     },
     "execution_count": 14,
     "metadata": {},
     "output_type": "execute_result"
    }
   ],
   "source": [
    "## CHECK NULL VALUES BY COLUMN\n",
    "data.isnull().sum()\n"
   ]
  },
  {
   "cell_type": "code",
   "execution_count": 15,
   "metadata": {
    "pycharm": {
     "is_executing": false,
     "name": "#%%\n"
    }
   },
   "outputs": [
    {
     "data": {
      "image/png": "[encoded data removed]",
      "text/plain": [
       "<Figure size 432x288 with 1 Axes>"
      ]
     },
     "metadata": {
      "needs_background": "light"
     },
     "output_type": "display_data"
    }
   ],
   "source": [
    "## HISTOGRAM WITH SEX DISTRIBUTION\n",
    "bar_names = data.sex.unique()\n",
    "y_pos = np.arange(len(bar_names))\n",
    "samples_total = [data.loc[data.sex == MALE, SEX].count(), \n",
    "                 data.loc[data.sex == FEMALE, SEX].count(),\n",
    "                 data.loc[data.sex == UNKNOWN, SEX].count()]\n",
    "plt.bar(y_pos, samples_total, align='center')\n",
    "plt.xticks(y_pos, bar_names)\n",
    "plt.ylabel('Number Samples')\n",
    "plt.show()\n"
   ]
  },
  {
   "cell_type": "code",
   "execution_count": 16,
   "metadata": {
    "pycharm": {
     "is_executing": false,
     "name": "#%%\n"
    }
   },
   "outputs": [
    {
     "data": {
      "text/plain": [
       "array(['scalp', 'ear', 'face', 'back', 'trunk', 'chest',\n",
       "       'upper extremity', 'abdomen', 'unknown', 'lower extremity',\n",
       "       'genital', 'neck', 'hand', 'foot', 'acral'], dtype=object)"
      ]
     },
     "execution_count": 16,
     "metadata": {},
     "output_type": "execute_result"
    }
   ],
   "source": [
    "## HISTOGRAM WITH LOCALIZATION DISTRIBUTION\n",
    "local_occurences = data.localization.unique()\n",
    "local_occurences"
   ]
  },
  {
   "cell_type": "code",
   "execution_count": 18,
   "metadata": {
    "pycharm": {
     "is_executing": false,
     "name": "#%%\n"
    }
   },
   "outputs": [
    {
     "data": {
      "text/plain": [
       "count    9958.000000\n",
       "mean       51.863828\n",
       "std        16.968614\n",
       "min         0.000000\n",
       "25%        40.000000\n",
       "50%        50.000000\n",
       "75%        65.000000\n",
       "max        85.000000\n",
       "Name: age, dtype: float64"
      ]
     },
     "execution_count": 18,
     "metadata": {},
     "output_type": "execute_result"
    }
   ],
   "source": [
    "## DESCRIPTION OF AGE\n",
    "data[AGE].describe()\n"
   ]
  },
  {
   "cell_type": "code",
   "execution_count": 19,
   "metadata": {
    "pycharm": {
     "is_executing": false,
     "name": "#%%\n"
    }
   },
   "outputs": [
    {
     "data": {
      "image/png": "[encoded data removed]",
      "text/plain": [
       "<Figure size 432x288 with 1 Axes>"
      ]
     },
     "metadata": {
      "needs_background": "light"
     },
     "output_type": "display_data"
    }
   ],
   "source": [
    "## DISTRIBUTION NUMBER EXAMPLES PER CLASS\n",
    "y_pos = np.arange(len(classes))\n",
    "samples_total = [data.loc[data.dx == BKL, DX].count(), \n",
    "                 data.loc[data.dx == NV, DX].count(),\n",
    "                 data.loc[data.dx == DF, DX].count(),\n",
    "                 data.loc[data.dx == MEL, DX].count(),\n",
    "                 data.loc[data.dx == VASC, DX].count(),\n",
    "                 data.loc[data.dx == BCC, DX].count(),\n",
    "                 data.loc[data.dx == AKIEC, DX].count()]\n",
    "plt.bar(y_pos, samples_total, align='center')\n",
    "plt.xticks(y_pos, classes)\n",
    "plt.ylabel('Number Samples')\n",
    "plt.show()\n"
   ]
  },
  {
   "cell_type": "code",
   "execution_count": 20,
   "metadata": {
    "pycharm": {
     "is_executing": false,
     "name": "#%%\n"
    }
   },
   "outputs": [
    {
     "data": {
      "text/plain": [
       "array([[<matplotlib.axes._subplots.AxesSubplot object at 0x000001DC731A97F0>,\n",
       "        <matplotlib.axes._subplots.AxesSubplot object at 0x000001DC741D4DD8>,\n",
       "        <matplotlib.axes._subplots.AxesSubplot object at 0x000001DC74215080>],\n",
       "       [<matplotlib.axes._subplots.AxesSubplot object at 0x000001DC742452E8>,\n",
       "        <matplotlib.axes._subplots.AxesSubplot object at 0x000001DC74274550>,\n",
       "        <matplotlib.axes._subplots.AxesSubplot object at 0x000001DC742A87B8>],\n",
       "       [<matplotlib.axes._subplots.AxesSubplot object at 0x000001DC74291EB8>,\n",
       "        <matplotlib.axes._subplots.AxesSubplot object at 0x000001DC7316F198>,\n",
       "        <matplotlib.axes._subplots.AxesSubplot object at 0x000001DC7316F2E8>]],\n",
       "      dtype=object)"
      ]
     },
     "execution_count": 20,
     "metadata": {},
     "output_type": "execute_result"
    },
    {
     "data": {
      "image/png": "[encoded data removed]",
      "text/plain": [
       "<Figure size 720x1080 with 9 Axes>"
      ]
     },
     "metadata": {
      "needs_background": "light"
     },
     "output_type": "display_data"
    }
   ],
   "source": [
    "## CHECK DISTRIBUTION OF CLASSES BY AGE\n",
    "data[AGE].hist(by=data[DX], bins=20, alpha=0.6, figsize=(10, 15))\n"
   ]
  },
  {
   "cell_type": "code",
   "execution_count": 21,
   "metadata": {
    "pycharm": {
     "is_executing": false,
     "name": "#%%\n"
    }
   },
   "outputs": [
    {
     "data": {
      "text/plain": [
       "array([[<matplotlib.axes._subplots.AxesSubplot object at 0x000001DC747C4860>,\n",
       "        <matplotlib.axes._subplots.AxesSubplot object at 0x000001DC74809160>,\n",
       "        <matplotlib.axes._subplots.AxesSubplot object at 0x000001DC744A23C8>],\n",
       "       [<matplotlib.axes._subplots.AxesSubplot object at 0x000001DC744D4630>,\n",
       "        <matplotlib.axes._subplots.AxesSubplot object at 0x000001DC74505898>,\n",
       "        <matplotlib.axes._subplots.AxesSubplot object at 0x000001DC7453BB00>],\n",
       "       [<matplotlib.axes._subplots.AxesSubplot object at 0x000001DC7456ED68>,\n",
       "        <matplotlib.axes._subplots.AxesSubplot object at 0x000001DC745A3F98>,\n",
       "        <matplotlib.axes._subplots.AxesSubplot object at 0x000001DC745B0048>]],\n",
       "      dtype=object)"
      ]
     },
     "execution_count": 21,
     "metadata": {},
     "output_type": "execute_result"
    },
    {
     "data": {
      "image/png": "[encoded data removed]",
      "text/plain": [
       "<Figure size 720x1080 with 9 Axes>"
      ]
     },
     "metadata": {
      "needs_background": "light"
     },
     "output_type": "display_data"
    }
   ],
   "source": [
    "## CHECK DISTRIBUTION OF CLASSES BY SEX\n",
    "data[SEX].hist(by=data[DX], bins=20, alpha=0.6, figsize=(10, 15))\n"
   ]
  },
  {
   "cell_type": "code",
   "execution_count": 31,
   "metadata": {
    "pycharm": {
     "is_executing": false,
     "name": "#%%\n"
    }
   },
   "outputs": [
    {
     "data": {
      "text/plain": [
       "<matplotlib.axes._subplots.AxesSubplot at 0x1dc7583be48>"
      ]
     },
     "execution_count": 31,
     "metadata": {},
     "output_type": "execute_result"
    },
    {
     "data": {
      "image/png": "[encoded data removed]",
      "text/plain": [
       "<Figure size 360x360 with 1 Axes>"
      ]
     },
     "metadata": {
      "needs_background": "light"
     },
     "output_type": "display_data"
    }
   ],
   "source": [
    "## CHECK WHAT ARE THE MOST BODY AFFECTED AREAS\n",
    "data[LOCALIZATION].value_counts().plot(kind='barh', figsize=(5, 5), colormap='Paired',\n",
    "                                        title='Samples per localization')\n"
   ]
  },
  {
   "cell_type": "code",
   "execution_count": 35,
   "metadata": {
    "pycharm": {
     "is_executing": false,
     "name": "#%%\n"
    }
   },
   "outputs": [
    {
     "data": {
      "text/plain": [
       "array([[<matplotlib.axes._subplots.AxesSubplot object at 0x000001DC758BCB70>,\n",
       "        <matplotlib.axes._subplots.AxesSubplot object at 0x000001DC75A97630>,\n",
       "        <matplotlib.axes._subplots.AxesSubplot object at 0x000001DC75AC6978>],\n",
       "       [<matplotlib.axes._subplots.AxesSubplot object at 0x000001DC75AF4CF8>,\n",
       "        <matplotlib.axes._subplots.AxesSubplot object at 0x000001DC75B300B8>,\n",
       "        <matplotlib.axes._subplots.AxesSubplot object at 0x000001DC75B5E438>],\n",
       "       [<matplotlib.axes._subplots.AxesSubplot object at 0x000001DC75B8E7B8>,\n",
       "        <matplotlib.axes._subplots.AxesSubplot object at 0x000001DC75BBCB00>,\n",
       "        <matplotlib.axes._subplots.AxesSubplot object at 0x000001DC75BBCB70>]],\n",
       "      dtype=object)"
      ]
     },
     "execution_count": 35,
     "metadata": {},
     "output_type": "execute_result"
    },
    {
     "data": {
      "image/png": "[encoded data removed]",
      "text/plain": [
       "<Figure size 720x1080 with 9 Axes>"
      ]
     },
     "metadata": {
      "needs_background": "light"
     },
     "output_type": "display_data"
    }
   ],
   "source": [
    "data[LOCALIZATION].hist(by=data[DX], bins=20, alpha=0.6, figsize=(10, 15))\n"
   ]
  }
 ],
 "metadata": {
  "kernelspec": {
   "display_name": "Python 3",
   "language": "python",
   "name": "python3"
  },
  "language_info": {
   "codemirror_mode": {
    "name": "ipython",
    "version": 3
   },
   "file_extension": ".py",
   "mimetype": "text/x-python",
   "name": "python",
   "nbconvert_exporter": "python",
   "pygments_lexer": "ipython3",
   "version": "3.6.8"
  },
  "pycharm": {
   "stem_cell": {
    "cell_type": "raw",
    "metadata": {
     "collapsed": false
    },
    "source": []
   }
  }
 },
 "nbformat": 4,
 "nbformat_minor": 1
}

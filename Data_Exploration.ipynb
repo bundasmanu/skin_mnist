{
 "cells": [
  {
   "cell_type": "code",
   "execution_count": 48,
   "outputs": [],
   "source": [
    "## IMPORTS\n",
    "import pandas as pd\n",
    "import config\n",
    "import config_func\n",
    "import os\n",
    "import numpy as np\n",
    "import matplotlib.pyplot as plt\n"
   ],
   "metadata": {
    "collapsed": false,
    "pycharm": {
     "name": "#%%\n",
     "is_executing": false
    }
   }
  },
  {
   "cell_type": "code",
   "execution_count": 68,
   "outputs": [],
   "source": [
    "## CONFIG VARIABLES\n",
    "## FILES\n",
    "INPUT_FOLDER = 'input'\n",
    "IMAGES_ACESS = 'images/*.jpg'\n",
    "INFO_PATIENTS = 'HAM10000_metadata.csv'\n",
    "OTHER_CSV = 'HMNIST_8_8_l.csv'\n",
    "\n",
    "#DATAFRAME COLUMNS\n",
    "LESION_ID = 'lesion_id'\n",
    "IMAGE_ID = 'image_id'\n",
    "DX = 'dx'\n",
    "DX_TYPE = 'dx_type'\n",
    "AGE = 'age'\n",
    "SEX = 'sex'\n",
    "LOCALIZATION = 'localization'\n",
    "PATH = 'path'\n",
    "\n",
    "#OTHER VARIABLES\n",
    "MALE = 'male'\n",
    "FEMALE = 'female'\n",
    "UNKNOWN = 'unknown'\n",
    "SCALP = 'scalp'\n",
    "EAR = 'ear'\n",
    "FACE = 'face'\n",
    "BACK = 'back'\n",
    "TRUNK = 'trunk'\n",
    "CHEST = 'chest'\n",
    "UPPER_EXTREMEMITY = 'upper_extremity'\n",
    "ABDOMEN = 'abdomen'\n",
    "LOWER_EXTREMITY = 'lower_extremity'\n",
    "GENITAL = 'genital'\n",
    "NECK = 'neck'\n",
    "HAND = 'hand'\n",
    "FOOT = 'foot'\n",
    "ACRAL = 'acral'\n",
    "BKL = 'bkl'\n",
    "NV = 'nv'\n",
    "DF = 'df'\n",
    "MEL = 'mel'\n",
    "VASC = 'vasc'\n",
    "BCC = 'bcc'\n",
    "AKIEC = 'akiec'\n"
   ],
   "metadata": {
    "collapsed": false,
    "pycharm": {
     "name": "#%%\n",
     "is_executing": false
    }
   }
  },
  {
   "cell_type": "code",
   "execution_count": 39,
   "outputs": [
    {
     "name": "stdout",
     "text": [
      "C:\\Users\\gusta\\Desktop\\Projetos_Python\\skin_mnist\nC:\\Users\\gusta\\Desktop\\Projetos_Python\\skin_mnist\\input\nC:\\Users\\gusta\\Desktop\\Projetos_Python\\skin_mnist\\input\\HAM10000_metadata.csv\n"
     ],
     "output_type": "stream"
    }
   ],
   "source": [
    "## IMPORTANT PATH FOLDERS, THAT AGGREGATES DATASET INFORMATION\n",
    "ROOT_DIR = os.getcwd()\n",
    "print(ROOT_DIR)\n",
    "INPUT_DIR = os.path.join(ROOT_DIR, config.INPUT_FOLDER)\n",
    "print(INPUT_DIR)\n",
    "PATIENTS_INFO = os.path.join(INPUT_DIR, config.INFO_PATIENTS)\n",
    "print(PATIENTS_INFO)\n"
   ],
   "metadata": {
    "collapsed": false,
    "pycharm": {
     "name": "#%%\n",
     "is_executing": false
    }
   }
  },
  {
   "cell_type": "code",
   "execution_count": 38,
   "outputs": [
    {
     "data": {
      "text/plain": "'C:\\\\Users\\\\gusta\\\\Desktop\\\\Projetos_Python\\\\skin_mnist\\\\input\\\\images\\\\ISIC_0024306.jpg'"
     },
     "metadata": {},
     "output_type": "execute_result",
     "execution_count": 38
    }
   ],
   "source": [
    "## GET PATHS FOR ALL IMAGES\n",
    "IMAGES_REGEX = os.path.join(INPUT_DIR, config.IMAGES_ACESS)\n",
    "images_paths = config_func.getImages(IMAGES_REGEX)\n",
    "images_paths[0]\n"
   ],
   "metadata": {
    "collapsed": false,
    "pycharm": {
     "name": "#%%\n",
     "is_executing": false
    }
   }
  },
  {
   "cell_type": "code",
   "execution_count": 35,
   "outputs": [
    {
     "data": {
      "text/plain": "     lesion_id      image_id   dx dx_type   age   sex localization\n0  HAM_0000118  ISIC_0027419  bkl   histo  80.0  male        scalp\n1  HAM_0000118  ISIC_0025030  bkl   histo  80.0  male        scalp\n2  HAM_0002730  ISIC_0026769  bkl   histo  80.0  male        scalp\n3  HAM_0002730  ISIC_0025661  bkl   histo  80.0  male        scalp\n4  HAM_0001466  ISIC_0031633  bkl   histo  75.0  male          ear",
      "text/html": "<div>\n<style scoped>\n    .dataframe tbody tr th:only-of-type {\n        vertical-align: middle;\n    }\n\n    .dataframe tbody tr th {\n        vertical-align: top;\n    }\n\n    .dataframe thead th {\n        text-align: right;\n    }\n</style>\n<table border=\"1\" class=\"dataframe\">\n  <thead>\n    <tr style=\"text-align: right;\">\n      <th></th>\n      <th>lesion_id</th>\n      <th>image_id</th>\n      <th>dx</th>\n      <th>dx_type</th>\n      <th>age</th>\n      <th>sex</th>\n      <th>localization</th>\n    </tr>\n  </thead>\n  <tbody>\n    <tr>\n      <th>0</th>\n      <td>HAM_0000118</td>\n      <td>ISIC_0027419</td>\n      <td>bkl</td>\n      <td>histo</td>\n      <td>80.0</td>\n      <td>male</td>\n      <td>scalp</td>\n    </tr>\n    <tr>\n      <th>1</th>\n      <td>HAM_0000118</td>\n      <td>ISIC_0025030</td>\n      <td>bkl</td>\n      <td>histo</td>\n      <td>80.0</td>\n      <td>male</td>\n      <td>scalp</td>\n    </tr>\n    <tr>\n      <th>2</th>\n      <td>HAM_0002730</td>\n      <td>ISIC_0026769</td>\n      <td>bkl</td>\n      <td>histo</td>\n      <td>80.0</td>\n      <td>male</td>\n      <td>scalp</td>\n    </tr>\n    <tr>\n      <th>3</th>\n      <td>HAM_0002730</td>\n      <td>ISIC_0025661</td>\n      <td>bkl</td>\n      <td>histo</td>\n      <td>80.0</td>\n      <td>male</td>\n      <td>scalp</td>\n    </tr>\n    <tr>\n      <th>4</th>\n      <td>HAM_0001466</td>\n      <td>ISIC_0031633</td>\n      <td>bkl</td>\n      <td>histo</td>\n      <td>75.0</td>\n      <td>male</td>\n      <td>ear</td>\n    </tr>\n  </tbody>\n</table>\n</div>"
     },
     "metadata": {},
     "output_type": "execute_result",
     "execution_count": 35
    }
   ],
   "source": [
    "##GET DATA\n",
    "data = pd.read_csv(PATIENTS_INFO)\n",
    "data.iloc[0] #SEE OUTPUT OF FIRST ROW, TO CHECK AFTER IF NEW DATAFRAME IS ALREADY WELL CREATED\n",
    "data.head(5)\n"
   ],
   "metadata": {
    "collapsed": false,
    "pycharm": {
     "name": "#%%\n",
     "is_executing": false
    }
   }
  },
  {
   "cell_type": "code",
   "execution_count": 34,
   "outputs": [
    {
     "data": {
      "text/plain": "        lesion_id      image_id   dx    dx_type   age     sex  \\\n4349  HAM_0000550  ISIC_0024306   nv  follow_up  45.0    male   \n4263  HAM_0003577  ISIC_0024307   nv  follow_up  50.0    male   \n4217  HAM_0001477  ISIC_0024308   nv  follow_up  55.0  female   \n3587  HAM_0000484  ISIC_0024309   nv  follow_up  40.0    male   \n1451  HAM_0003350  ISIC_0024310  mel      histo  60.0    male   \n\n         localization                                               path  \n4349            trunk  C:\\Users\\gusta\\Desktop\\Projetos_Python\\skin_mn...  \n4263  lower extremity  C:\\Users\\gusta\\Desktop\\Projetos_Python\\skin_mn...  \n4217            trunk  C:\\Users\\gusta\\Desktop\\Projetos_Python\\skin_mn...  \n3587            trunk  C:\\Users\\gusta\\Desktop\\Projetos_Python\\skin_mn...  \n1451            chest  C:\\Users\\gusta\\Desktop\\Projetos_Python\\skin_mn...  ",
      "text/html": "<div>\n<style scoped>\n    .dataframe tbody tr th:only-of-type {\n        vertical-align: middle;\n    }\n\n    .dataframe tbody tr th {\n        vertical-align: top;\n    }\n\n    .dataframe thead th {\n        text-align: right;\n    }\n</style>\n<table border=\"1\" class=\"dataframe\">\n  <thead>\n    <tr style=\"text-align: right;\">\n      <th></th>\n      <th>lesion_id</th>\n      <th>image_id</th>\n      <th>dx</th>\n      <th>dx_type</th>\n      <th>age</th>\n      <th>sex</th>\n      <th>localization</th>\n      <th>path</th>\n    </tr>\n  </thead>\n  <tbody>\n    <tr>\n      <th>4349</th>\n      <td>HAM_0000550</td>\n      <td>ISIC_0024306</td>\n      <td>nv</td>\n      <td>follow_up</td>\n      <td>45.0</td>\n      <td>male</td>\n      <td>trunk</td>\n      <td>C:\\Users\\gusta\\Desktop\\Projetos_Python\\skin_mn...</td>\n    </tr>\n    <tr>\n      <th>4263</th>\n      <td>HAM_0003577</td>\n      <td>ISIC_0024307</td>\n      <td>nv</td>\n      <td>follow_up</td>\n      <td>50.0</td>\n      <td>male</td>\n      <td>lower extremity</td>\n      <td>C:\\Users\\gusta\\Desktop\\Projetos_Python\\skin_mn...</td>\n    </tr>\n    <tr>\n      <th>4217</th>\n      <td>HAM_0001477</td>\n      <td>ISIC_0024308</td>\n      <td>nv</td>\n      <td>follow_up</td>\n      <td>55.0</td>\n      <td>female</td>\n      <td>trunk</td>\n      <td>C:\\Users\\gusta\\Desktop\\Projetos_Python\\skin_mn...</td>\n    </tr>\n    <tr>\n      <th>3587</th>\n      <td>HAM_0000484</td>\n      <td>ISIC_0024309</td>\n      <td>nv</td>\n      <td>follow_up</td>\n      <td>40.0</td>\n      <td>male</td>\n      <td>trunk</td>\n      <td>C:\\Users\\gusta\\Desktop\\Projetos_Python\\skin_mn...</td>\n    </tr>\n    <tr>\n      <th>1451</th>\n      <td>HAM_0003350</td>\n      <td>ISIC_0024310</td>\n      <td>mel</td>\n      <td>histo</td>\n      <td>60.0</td>\n      <td>male</td>\n      <td>chest</td>\n      <td>C:\\Users\\gusta\\Desktop\\Projetos_Python\\skin_mn...</td>\n    </tr>\n  </tbody>\n</table>\n</div>"
     },
     "metadata": {},
     "output_type": "execute_result",
     "execution_count": 34
    }
   ],
   "source": [
    "##SORT BY IMAGE_ID, IN COHERENCE IMAGE_PATHS\n",
    "data = data.sort_values(config.IMAGE_ID, ascending=True)\n",
    "data.head(5)\n"
   ],
   "metadata": {
    "collapsed": false,
    "pycharm": {
     "name": "#%%\n",
     "is_executing": false
    }
   }
  },
  {
   "cell_type": "code",
   "execution_count": 22,
   "outputs": [],
   "source": [
    "def addNewColumn_Populate_DataFrame(dataFrame, name_new_column, dataToPopulate):\n",
    "\n",
    "    '''\n",
    "    THIS FUNCTION IS USED TO ADD NEW COLUMN TO DATAFRAME, AND POPULATE COLUMN WITH DATA\n",
    "    :param dataFrame: dataFrame --> dataFrame to apply changes\n",
    "    :param name_new_column: str --> name of new column\n",
    "    :param dataToPopulate: List (str) --> strings to populate data\n",
    "    :return: dataFrame changed\n",
    "    '''\n",
    "\n",
    "    try:\n",
    "\n",
    "        dataFrame[name_new_column] = dataToPopulate\n",
    "        return dataFrame\n",
    "\n",
    "    except:\n",
    "        raise\n"
   ],
   "metadata": {
    "collapsed": false,
    "pycharm": {
     "name": "#%%\n",
     "is_executing": false
    }
   }
  },
  {
   "cell_type": "code",
   "execution_count": 33,
   "outputs": [
    {
     "data": {
      "text/plain": "'C:\\\\Users\\\\gusta\\\\Desktop\\\\Projetos_Python\\\\skin_mnist\\\\input\\\\images\\\\ISIC_0024306.jpg'"
     },
     "metadata": {},
     "output_type": "execute_result",
     "execution_count": 33
    }
   ],
   "source": [
    "## SET NEW COLUMN TO DATAFRAME AND IMAGE PATH TO SORTED DATAFRAME (SAME ORDER DATAFRAME AND LIST OF IMAGE_PATHS) \n",
    "data = config_func.addNewColumn_Populate_DataFrame(data, config.PATH, images_paths)\n",
    "data = data.sort_index() #sort by index again\n",
    "data.head(5)\n",
    "data.iloc[0][config.PATH]\n"
   ],
   "metadata": {
    "collapsed": false,
    "pycharm": {
     "name": "#%%\n",
     "is_executing": false
    }
   }
  },
  {
   "cell_type": "code",
   "execution_count": 32,
   "outputs": [
    {
     "data": {
      "text/plain": "10015"
     },
     "metadata": {},
     "output_type": "execute_result",
     "execution_count": 32
    }
   ],
   "source": [
    "## COUNT HOW MANY IMAGES ARE INTO DATASET\n",
    "data.shape[0]\n"
   ],
   "metadata": {
    "collapsed": false,
    "pycharm": {
     "name": "#%%\n",
     "is_executing": false
    }
   }
  },
  {
   "cell_type": "code",
   "execution_count": 30,
   "outputs": [
    {
     "data": {
      "text/plain": "Index(['lesion_id', 'image_id', 'dx', 'dx_type', 'age', 'sex', 'localization',\n       'path'],\n      dtype='object')"
     },
     "metadata": {},
     "output_type": "execute_result",
     "execution_count": 30
    }
   ],
   "source": [
    "## GET COLUMNS NAMES\n",
    "data.columns\n"
   ],
   "metadata": {
    "collapsed": false,
    "pycharm": {
     "name": "#%%\n",
     "is_executing": false
    }
   }
  },
  {
   "cell_type": "code",
   "execution_count": 66,
   "outputs": [
    {
     "data": {
      "text/plain": "array(['bkl', 'nv', 'df', 'mel', 'vasc', 'bcc', 'akiec'], dtype=object)"
     },
     "metadata": {},
     "output_type": "execute_result",
     "execution_count": 66
    }
   ],
   "source": [
    "## CHECK HOW MANY CLASSES EXIST\n",
    "classes = data.dx.unique()\n",
    "classes"
   ],
   "metadata": {
    "collapsed": false,
    "pycharm": {
     "name": "#%%\n",
     "is_executing": false
    }
   }
  },
  {
   "cell_type": "code",
   "execution_count": 42,
   "outputs": [
    {
     "data": {
      "text/plain": "lesion_id        0\nimage_id         0\ndx               0\ndx_type          0\nage             57\nsex              0\nlocalization     0\ndtype: int64"
     },
     "metadata": {},
     "output_type": "execute_result",
     "execution_count": 42
    }
   ],
   "source": [
    "## CHECK NULL VALUES BY COLUMN\n",
    "data.isnull().sum()\n"
   ],
   "metadata": {
    "collapsed": false,
    "pycharm": {
     "name": "#%%\n",
     "is_executing": false
    }
   }
  },
  {
   "cell_type": "code",
   "execution_count": 53,
   "outputs": [
    {
     "data": {
      "text/plain": "<Figure size 432x288 with 1 Axes>",
      "image/png": "[encoded data removed]"
     },
     "metadata": {
      "needs_background": "light"
     },
     "output_type": "display_data"
    }
   ],
   "source": [
    "## HISTOGRAM WITH SEX DISTRIBUTION\n",
    "bar_names = data.sex.unique()\n",
    "y_pos = np.arange(len(bar_names))\n",
    "samples_total = [data.loc[data.sex == MALE, SEX].count(), \n",
    "                 data.loc[data.sex == FEMALE, SEX].count(),\n",
    "                 data.loc[data.sex == UNKNOWN, SEX].count()]\n",
    "plt.bar(y_pos, samples_total, align='center')\n",
    "plt.xticks(y_pos, bar_names)\n",
    "plt.ylabel('Number Samples')\n",
    "plt.show()\n"
   ],
   "metadata": {
    "collapsed": false,
    "pycharm": {
     "name": "#%%\n",
     "is_executing": false
    }
   }
  },
  {
   "cell_type": "code",
   "execution_count": 64,
   "outputs": [
    {
     "data": {
      "text/plain": "array(['scalp', 'ear', 'face', 'back', 'trunk', 'chest',\n       'upper extremity', 'abdomen', 'unknown', 'lower extremity',\n       'genital', 'neck', 'hand', 'foot', 'acral'], dtype=object)"
     },
     "metadata": {},
     "output_type": "execute_result",
     "execution_count": 64
    }
   ],
   "source": [
    "## HISTOGRAM WITH LOCALIZATION DISTRIBUTION\n",
    "local_occurences = data.localization.unique()\n",
    "local_occurences"
   ],
   "metadata": {
    "collapsed": false,
    "pycharm": {
     "name": "#%%\n",
     "is_executing": false
    }
   }
  },
  {
   "cell_type": "code",
   "execution_count": 65,
   "outputs": [
    {
     "data": {
      "text/plain": "<Figure size 432x288 with 1 Axes>",
      "image/png": "[encoded data removed]"
     },
     "metadata": {
      "needs_background": "light"
     },
     "output_type": "display_data"
    }
   ],
   "source": [
    "y_pos = np.arange(len(local_occurences))\n",
    "samples_total = [data.loc[data.localization == SCALP, LOCALIZATION].count(), \n",
    "                 data.loc[data.localization == EAR, LOCALIZATION].count(),\n",
    "                 data.loc[data.localization == FACE, LOCALIZATION].count(),\n",
    "                 data.loc[data.localization == BACK, LOCALIZATION].count(),\n",
    "                 data.loc[data.localization == TRUNK, LOCALIZATION].count(),\n",
    "                 data.loc[data.localization == CHEST, LOCALIZATION].count(),\n",
    "                 data.loc[data.localization == UPPER_EXTREMEMITY, LOCALIZATION].count(),\n",
    "                 data.loc[data.localization == ABDOMEN, LOCALIZATION].count(),\n",
    "                 data.loc[data.localization == UNKNOWN, LOCALIZATION].count(),\n",
    "                 data.loc[data.localization == LOWER_EXTREMITY, LOCALIZATION].count(),\n",
    "                 data.loc[data.localization == GENITAL, LOCALIZATION].count(),\n",
    "                 data.loc[data.localization == NECK, LOCALIZATION].count(),\n",
    "                 data.loc[data.localization == HAND, LOCALIZATION].count(),\n",
    "                 data.loc[data.localization == FOOT, LOCALIZATION].count(),\n",
    "                 data.loc[data.localization == ACRAL, LOCALIZATION].count()]\n",
    "plt.bar(y_pos, samples_total, align='center')\n",
    "plt.xticks(y_pos, np.arange(14))\n",
    "plt.ylabel('Number Samples')\n",
    "plt.show()\n"
   ],
   "metadata": {
    "collapsed": false,
    "pycharm": {
     "name": "#%%\n",
     "is_executing": false
    }
   }
  },
  {
   "cell_type": "code",
   "execution_count": 47,
   "outputs": [
    {
     "data": {
      "text/plain": "count    9958.000000\nmean       51.863828\nstd        16.968614\nmin         0.000000\n25%        40.000000\n50%        50.000000\n75%        65.000000\nmax        85.000000\nName: age, dtype: float64"
     },
     "metadata": {},
     "output_type": "execute_result",
     "execution_count": 47
    }
   ],
   "source": [
    "## DESCRIPTION OF AGE\n",
    "data[AGE].describe()\n"
   ],
   "metadata": {
    "collapsed": false,
    "pycharm": {
     "name": "#%%\n",
     "is_executing": false
    }
   }
  },
  {
   "cell_type": "code",
   "execution_count": 69,
   "outputs": [
    {
     "data": {
      "text/plain": "<Figure size 432x288 with 1 Axes>",
      "image/png": "[encoded data removed]"
     },
     "metadata": {
      "needs_background": "light"
     },
     "output_type": "display_data"
    }
   ],
   "source": [
    "## DISTRIBUTION NUMBER EXAMPLES PER CLASS\n",
    "y_pos = np.arange(len(classes))\n",
    "samples_total = [data.loc[data.dx == BKL, DX].count(), \n",
    "                 data.loc[data.dx == NV, DX].count(),\n",
    "                 data.loc[data.dx == DF, DX].count(),\n",
    "                 data.loc[data.dx == MEL, DX].count(),\n",
    "                 data.loc[data.dx == VASC, DX].count(),\n",
    "                 data.loc[data.dx == BCC, DX].count(),\n",
    "                 data.loc[data.dx == AKIEC, DX].count()]\n",
    "plt.bar(y_pos, samples_total, align='center')\n",
    "plt.xticks(y_pos, classes)\n",
    "plt.ylabel('Number Samples')\n",
    "plt.show()\n"
   ],
   "metadata": {
    "collapsed": false,
    "pycharm": {
     "name": "#%%\n",
     "is_executing": false
    }
   }
  },
  {
   "cell_type": "code",
   "execution_count": 89,
   "outputs": [
    {
     "data": {
      "text/plain": "array([[<matplotlib.axes._subplots.AxesSubplot object at 0x000002971994F780>,\n        <matplotlib.axes._subplots.AxesSubplot object at 0x000002971AC32710>,\n        <matplotlib.axes._subplots.AxesSubplot object at 0x000002971AC54A58>],\n       [<matplotlib.axes._subplots.AxesSubplot object at 0x0000029719EC5DD8>,\n        <matplotlib.axes._subplots.AxesSubplot object at 0x0000029719F05198>,\n        <matplotlib.axes._subplots.AxesSubplot object at 0x0000029719F36518>],\n       [<matplotlib.axes._subplots.AxesSubplot object at 0x0000029719F67898>,\n        <matplotlib.axes._subplots.AxesSubplot object at 0x0000029719F99BE0>,\n        <matplotlib.axes._subplots.AxesSubplot object at 0x0000029719F99C50>]],\n      dtype=object)"
     },
     "metadata": {},
     "output_type": "execute_result",
     "execution_count": 89
    },
    {
     "data": {
      "text/plain": "<Figure size 720x1080 with 9 Axes>",
      "image/png": "[encoded data removed]"
     },
     "metadata": {
      "needs_background": "light"
     },
     "output_type": "display_data"
    }
   ],
   "source": [
    "## CHECK DISTRIBUTION OF CLASSES BY AGE\n",
    "data[AGE].hist(by=data[DX], bins=20, alpha=0.6, figsize=(10, 15))\n"
   ],
   "metadata": {
    "collapsed": false,
    "pycharm": {
     "name": "#%%\n",
     "is_executing": false
    }
   }
  },
  {
   "cell_type": "code",
   "execution_count": 90,
   "outputs": [
    {
     "data": {
      "text/plain": "array([[<matplotlib.axes._subplots.AxesSubplot object at 0x0000029718DBE2B0>,\n        <matplotlib.axes._subplots.AxesSubplot object at 0x0000029719372C50>,\n        <matplotlib.axes._subplots.AxesSubplot object at 0x000002971A0FEC50>],\n       [<matplotlib.axes._subplots.AxesSubplot object at 0x000002971A2515C0>,\n        <matplotlib.axes._subplots.AxesSubplot object at 0x000002971A2B82B0>,\n        <matplotlib.axes._subplots.AxesSubplot object at 0x000002971A2E9518>],\n       [<matplotlib.axes._subplots.AxesSubplot object at 0x000002971A31D780>,\n        <matplotlib.axes._subplots.AxesSubplot object at 0x000002971A3519B0>,\n        <matplotlib.axes._subplots.AxesSubplot object at 0x000002971A351A20>]],\n      dtype=object)"
     },
     "metadata": {},
     "output_type": "execute_result",
     "execution_count": 90
    },
    {
     "data": {
      "text/plain": "<Figure size 720x1080 with 9 Axes>",
      "image/png": "[encoded data removed]"
     },
     "metadata": {
      "needs_background": "light"
     },
     "output_type": "display_data"
    }
   ],
   "source": [
    "## CHECK DISTRIBUTION OF CLASSES BY SEX\n",
    "data[SEX].hist(by=data[DX], bins=20, alpha=0.6, figsize=(10, 15))"
   ],
   "metadata": {
    "collapsed": false,
    "pycharm": {
     "name": "#%%\n",
     "is_executing": false
    }
   }
  }
 ],
 "metadata": {
  "language_info": {
   "codemirror_mode": {
    "name": "ipython",
    "version": 2
   },
   "file_extension": ".py",
   "mimetype": "text/x-python",
   "name": "python",
   "nbconvert_exporter": "python",
   "pygments_lexer": "ipython2",
   "version": "2.7.6"
  },
  "kernelspec": {
   "name": "python3",
   "language": "python",
   "display_name": "Python 3"
  },
  "pycharm": {
   "stem_cell": {
    "cell_type": "raw",
    "source": [],
    "metadata": {
     "collapsed": false
    }
   }
  }
 },
 "nbformat": 4,
 "nbformat_minor": 0
}
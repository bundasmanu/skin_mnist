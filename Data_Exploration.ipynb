{
 "cells": [
  {
   "cell_type": "code",
   "execution_count": 16,
   "outputs": [],
   "source": [
    "## IMPORTS\n",
    "import pandas as pd\n",
    "import config\n",
    "import config_func\n",
    "import os\n"
   ],
   "metadata": {
    "collapsed": false,
    "pycharm": {
     "name": "#%%\n",
     "is_executing": false
    }
   }
  },
  {
   "cell_type": "code",
   "execution_count": 17,
   "outputs": [],
   "source": [
    "## CONFIG VARIABLES\n",
    "## FILES\n",
    "INPUT_FOLDER = 'input'\n",
    "IMAGES_ACESS = 'images/*.jpg'\n",
    "INFO_PATIENTS = 'HAM10000_metadata.csv'\n",
    "OTHER_CSV = 'HMNIST_8_8_l.csv'\n",
    "\n",
    "#DATAFRAME COLUMNS\n",
    "LESION_ID = 'lesion_id'\n",
    "IMAGE_ID = 'image_id'\n",
    "DX = 'dx'\n",
    "DX_TYPE = 'dx_type'\n",
    "AGE = 'age'\n",
    "SEX = 'sex'\n",
    "LOCALIZATION = 'localization'\n",
    "PATH = 'path'\n"
   ],
   "metadata": {
    "collapsed": false,
    "pycharm": {
     "name": "#%%\n",
     "is_executing": false
    }
   }
  },
  {
   "cell_type": "code",
   "execution_count": 18,
   "outputs": [
    {
     "name": "stdout",
     "text": [
      "C:\\Users\\gusta\\Desktop\\Projetos_Python\\skin_mnist\nC:\\Users\\gusta\\Desktop\\Projetos_Python\\skin_mnist\\input\nC:\\Users\\gusta\\Desktop\\Projetos_Python\\skin_mnist\\input\\HAM10000_metadata.csv\n"
     ],
     "output_type": "stream"
    }
   ],
   "source": [
    "## IMPORTANT PATH FOLDERS, THAT AGGREGATES DATASET INFORMATION\n",
    "ROOT_DIR = os.getcwd()\n",
    "print(ROOT_DIR)\n",
    "INPUT_DIR = os.path.join(ROOT_DIR, config.INPUT_FOLDER)\n",
    "print(INPUT_DIR)\n",
    "PATIENTS_INFO = os.path.join(INPUT_DIR, config.INFO_PATIENTS)\n",
    "print(PATIENTS_INFO)\n"
   ],
   "metadata": {
    "collapsed": false,
    "pycharm": {
     "name": "#%%\n",
     "is_executing": false
    }
   }
  },
  {
   "cell_type": "code",
   "execution_count": 19,
   "outputs": [
    {
     "name": "stdout",
     "text": [
      "C:\\Users\\gusta\\Desktop\\Projetos_Python\\skin_mnist\\input\\images\\ISIC_0024306.jpg\n"
     ],
     "output_type": "stream"
    }
   ],
   "source": [
    "## GET PATHS FOR ALL IMAGES\n",
    "IMAGES_REGEX = os.path.join(INPUT_DIR, config.IMAGES_ACESS)\n",
    "images_paths = config_func.getImages(IMAGES_REGEX)\n",
    "print(images_paths[0])\n"
   ],
   "metadata": {
    "collapsed": false,
    "pycharm": {
     "name": "#%%\n",
     "is_executing": false
    }
   }
  },
  {
   "cell_type": "code",
   "execution_count": 20,
   "outputs": [
    {
     "name": "stdout",
     "text": [
      "lesion_id        HAM_0000118\nimage_id        ISIC_0027419\ndx                       bkl\ndx_type                histo\nage                       80\nsex                     male\nlocalization           scalp\nName: 0, dtype: object\n     lesion_id      image_id   dx dx_type   age   sex localization\n0  HAM_0000118  ISIC_0027419  bkl   histo  80.0  male        scalp\n1  HAM_0000118  ISIC_0025030  bkl   histo  80.0  male        scalp\n2  HAM_0002730  ISIC_0026769  bkl   histo  80.0  male        scalp\n3  HAM_0002730  ISIC_0025661  bkl   histo  80.0  male        scalp\n4  HAM_0001466  ISIC_0031633  bkl   histo  75.0  male          ear\n"
     ],
     "output_type": "stream"
    }
   ],
   "source": [
    "##GET DATA\n",
    "data = pd.read_csv(PATIENTS_INFO)\n",
    "print(data.iloc[0]) #SEE OUTPUT OF FIRST ROW, TO CHECK AFTER IF NEW DATAFRAME IS ALREADY WELL CREATED\n",
    "print(data.head(5))\n"
   ],
   "metadata": {
    "collapsed": false,
    "pycharm": {
     "name": "#%%\n",
     "is_executing": false
    }
   }
  },
  {
   "cell_type": "code",
   "execution_count": 21,
   "outputs": [
    {
     "name": "stdout",
     "text": [
      "        lesion_id      image_id   dx    dx_type   age     sex     localization\n4349  HAM_0000550  ISIC_0024306   nv  follow_up  45.0    male            trunk\n4263  HAM_0003577  ISIC_0024307   nv  follow_up  50.0    male  lower extremity\n4217  HAM_0001477  ISIC_0024308   nv  follow_up  55.0  female            trunk\n3587  HAM_0000484  ISIC_0024309   nv  follow_up  40.0    male            trunk\n1451  HAM_0003350  ISIC_0024310  mel      histo  60.0    male            chest\n"
     ],
     "output_type": "stream"
    }
   ],
   "source": [
    "##SORT BY IMAGE_ID, IN COHERENCE IMAGE_PATHS\n",
    "data = data.sort_values(config.IMAGE_ID, ascending=True)\n",
    "print(data.head(5))\n"
   ],
   "metadata": {
    "collapsed": false,
    "pycharm": {
     "name": "#%%\n",
     "is_executing": false
    }
   }
  },
  {
   "cell_type": "code",
   "execution_count": 22,
   "outputs": [],
   "source": [
    "def addNewColumn_Populate_DataFrame(dataFrame, name_new_column, dataToPopulate):\n",
    "\n",
    "    '''\n",
    "    THIS FUNCTION IS USED TO ADD NEW COLUMN TO DATAFRAME, AND POPULATE COLUMN WITH DATA\n",
    "    :param dataFrame: dataFrame --> dataFrame to apply changes\n",
    "    :param name_new_column: str --> name of new column\n",
    "    :param dataToPopulate: List (str) --> strings to populate data\n",
    "    :return: dataFrame changed\n",
    "    '''\n",
    "\n",
    "    try:\n",
    "\n",
    "        dataFrame[name_new_column] = dataToPopulate\n",
    "        return dataFrame\n",
    "\n",
    "    except:\n",
    "        raise\n"
   ],
   "metadata": {
    "collapsed": false,
    "pycharm": {
     "name": "#%%\n",
     "is_executing": false
    }
   }
  },
  {
   "cell_type": "code",
   "execution_count": 23,
   "outputs": [
    {
     "name": "stdout",
     "text": [
      "     lesion_id      image_id   dx dx_type   age   sex localization  \\\n0  HAM_0000118  ISIC_0027419  bkl   histo  80.0  male        scalp   \n1  HAM_0000118  ISIC_0025030  bkl   histo  80.0  male        scalp   \n2  HAM_0002730  ISIC_0026769  bkl   histo  80.0  male        scalp   \n3  HAM_0002730  ISIC_0025661  bkl   histo  80.0  male        scalp   \n4  HAM_0001466  ISIC_0031633  bkl   histo  75.0  male          ear   \n\n                                                path  \n0  C:\\Users\\gusta\\Desktop\\Projetos_Python\\skin_mn...  \n1  C:\\Users\\gusta\\Desktop\\Projetos_Python\\skin_mn...  \n2  C:\\Users\\gusta\\Desktop\\Projetos_Python\\skin_mn...  \n3  C:\\Users\\gusta\\Desktop\\Projetos_Python\\skin_mn...  \n4  C:\\Users\\gusta\\Desktop\\Projetos_Python\\skin_mn...  \nC:\\Users\\gusta\\Desktop\\Projetos_Python\\skin_mnist\\input\\images\\ISIC_0027419.jpg\n"
     ],
     "output_type": "stream"
    }
   ],
   "source": [
    "## SET NEW COLUMN TO DATAFRAME AND IMAGE PATH TO SORTED DATAFRAME (SAME ORDER DATAFRAME AND LIST OF IMAGE_PATHS) \n",
    "data = config_func.addNewColumn_Populate_DataFrame(data, config.PATH, images_paths)\n",
    "data = data.sort_index() #sort by index again\n",
    "print(data.head(5))\n",
    "print(data.iloc[0][config.PATH])\n"
   ],
   "metadata": {
    "collapsed": false,
    "pycharm": {
     "name": "#%%\n",
     "is_executing": false
    }
   }
  },
  {
   "cell_type": "code",
   "execution_count": null,
   "outputs": [],
   "source": [
    "\n"
   ],
   "metadata": {
    "collapsed": false,
    "pycharm": {
     "name": "#%%\n"
    }
   }
  }
 ],
 "metadata": {
  "language_info": {
   "codemirror_mode": {
    "name": "ipython",
    "version": 2
   },
   "file_extension": ".py",
   "mimetype": "text/x-python",
   "name": "python",
   "nbconvert_exporter": "python",
   "pygments_lexer": "ipython2",
   "version": "2.7.6"
  },
  "kernelspec": {
   "name": "python3",
   "language": "python",
   "display_name": "Python 3"
  },
  "pycharm": {
   "stem_cell": {
    "cell_type": "raw",
    "source": [],
    "metadata": {
     "collapsed": false
    }
   }
  }
 },
 "nbformat": 4,
 "nbformat_minor": 0
}